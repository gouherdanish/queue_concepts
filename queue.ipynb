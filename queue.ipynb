{
 "cells": [
  {
   "cell_type": "markdown",
   "id": "1b76229e",
   "metadata": {},
   "source": [
    "## Node Class"
   ]
  },
  {
   "cell_type": "code",
   "execution_count": 2,
   "id": "53860564",
   "metadata": {},
   "outputs": [],
   "source": [
    "class Node:\n",
    "    def __init__(self,key=None,next=None):\n",
    "        self.key = key\n",
    "        self.next = next\n",
    "\n",
    "    def __str__(self):\n",
    "        return f\"{self.key}\"\n",
    "    \n",
    "    def __repr__(self):\n",
    "        return str(self)"
   ]
  },
  {
   "cell_type": "code",
   "execution_count": 12,
   "id": "03136bf5",
   "metadata": {},
   "outputs": [
    {
     "data": {
      "text/plain": [
       "1"
      ]
     },
     "execution_count": 12,
     "metadata": {},
     "output_type": "execute_result"
    }
   ],
   "source": [
    "node = Node(1)\n",
    "node"
   ]
  },
  {
   "cell_type": "markdown",
   "id": "4c581a4c",
   "metadata": {},
   "source": [
    "## Queue as a Singly Linked List"
   ]
  },
  {
   "cell_type": "code",
   "execution_count": 49,
   "id": "c7aac5ce",
   "metadata": {},
   "outputs": [],
   "source": [
    "class Queue:\n",
    "    def __init__(self):\n",
    "        self.head = None\n",
    "        self.tail = None\n",
    "        self.length = 0\n",
    "\n",
    "    def __iter__(self):\n",
    "        curr = self.head\n",
    "        while curr:\n",
    "            yield curr\n",
    "            curr = curr.next\n",
    "\n",
    "    def __str__(self):\n",
    "        # if self.length == 0: return f\n",
    "        res = ','.join([str(node) for node in self])\n",
    "        print(res)\n",
    "        return f'Queue({res})' \n",
    "    \n",
    "    def __repr__(self):\n",
    "        return str(self)\n",
    "    \n",
    "    def dequeue(self):\n",
    "        if self.length == 0:\n",
    "            raise Exception(\"Queue is empty\")\n",
    "        else:\n",
    "            temp = self.head\n",
    "            if self.length == 1:\n",
    "                self.head = None\n",
    "                self.tail = None\n",
    "            else:\n",
    "                self.head = self.head.next\n",
    "                temp.next = None\n",
    "            self.length -= 1\n",
    "            return temp\n",
    "\n",
    "    def enqueue(self,item):\n",
    "        new_node = Node(item)\n",
    "        if self.length == 0:\n",
    "            self.head = new_node\n",
    "            self.tail = new_node\n",
    "        else:\n",
    "            self.tail.next = new_node\n",
    "            self.tail = new_node\n",
    "        self.length += 1\n",
    "    "
   ]
  },
  {
   "cell_type": "code",
   "execution_count": 50,
   "id": "ee692726",
   "metadata": {},
   "outputs": [
    {
     "name": "stdout",
     "output_type": "stream",
     "text": [
      "\n"
     ]
    },
    {
     "data": {
      "text/plain": [
       "Queue()"
      ]
     },
     "execution_count": 50,
     "metadata": {},
     "output_type": "execute_result"
    }
   ],
   "source": [
    "q = Queue()\n",
    "q"
   ]
  },
  {
   "cell_type": "code",
   "execution_count": 51,
   "id": "f77c52ce",
   "metadata": {},
   "outputs": [
    {
     "name": "stdout",
     "output_type": "stream",
     "text": [
      "5\n"
     ]
    },
    {
     "data": {
      "text/plain": [
       "Queue(5)"
      ]
     },
     "execution_count": 51,
     "metadata": {},
     "output_type": "execute_result"
    }
   ],
   "source": [
    "q.enqueue(5)\n",
    "q"
   ]
  },
  {
   "cell_type": "code",
   "execution_count": 52,
   "id": "183f26b6",
   "metadata": {},
   "outputs": [
    {
     "name": "stdout",
     "output_type": "stream",
     "text": [
      "5,3\n"
     ]
    },
    {
     "data": {
      "text/plain": [
       "Queue(5,3)"
      ]
     },
     "execution_count": 52,
     "metadata": {},
     "output_type": "execute_result"
    }
   ],
   "source": [
    "q.enqueue(3)\n",
    "q"
   ]
  },
  {
   "cell_type": "code",
   "execution_count": 53,
   "id": "0dd21c72",
   "metadata": {},
   "outputs": [
    {
     "name": "stdout",
     "output_type": "stream",
     "text": [
      "3\n"
     ]
    },
    {
     "data": {
      "text/plain": [
       "Queue(3)"
      ]
     },
     "execution_count": 53,
     "metadata": {},
     "output_type": "execute_result"
    }
   ],
   "source": [
    "q.dequeue()\n",
    "q"
   ]
  },
  {
   "cell_type": "code",
   "execution_count": null,
   "id": "b19ca854",
   "metadata": {},
   "outputs": [],
   "source": []
  }
 ],
 "metadata": {
  "kernelspec": {
   "display_name": "mle",
   "language": "python",
   "name": "python3"
  },
  "language_info": {
   "codemirror_mode": {
    "name": "ipython",
    "version": 3
   },
   "file_extension": ".py",
   "mimetype": "text/x-python",
   "name": "python",
   "nbconvert_exporter": "python",
   "pygments_lexer": "ipython3",
   "version": "3.11.8"
  }
 },
 "nbformat": 4,
 "nbformat_minor": 5
}
